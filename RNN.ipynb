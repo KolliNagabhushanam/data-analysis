{
  "nbformat": 4,
  "nbformat_minor": 0,
  "metadata": {
    "colab": {
      "provenance": [],
      "authorship_tag": "ABX9TyMjStCO+zmbSMA3z2EXwwCU",
      "include_colab_link": true
    },
    "kernelspec": {
      "name": "python3",
      "display_name": "Python 3"
    },
    "language_info": {
      "name": "python"
    }
  },
  "cells": [
    {
      "cell_type": "markdown",
      "metadata": {
        "id": "view-in-github",
        "colab_type": "text"
      },
      "source": [
        "<a href=\"https://colab.research.google.com/github/KolliNagabhushanam/data-analysis/blob/main/RNN.ipynb\" target=\"_parent\"><img src=\"https://colab.research.google.com/assets/colab-badge.svg\" alt=\"Open In Colab\"/></a>"
      ]
    },
    {
      "cell_type": "code",
      "execution_count": null,
      "metadata": {
        "colab": {
          "base_uri": "https://localhost:8080/"
        },
        "id": "nk9Z0RY-QkA-",
        "outputId": "4835e884-13e5-4a7f-834f-f5a8c98fd74e"
      },
      "outputs": [
        {
          "output_type": "stream",
          "name": "stdout",
          "text": [
            "Epoch 1/50\n",
            "1/1 - 4s - loss: 2.4895 - accuracy: 0.1000 - 4s/epoch - 4s/step\n",
            "Epoch 2/50\n",
            "1/1 - 0s - loss: 2.3901 - accuracy: 0.4000 - 18ms/epoch - 18ms/step\n",
            "Epoch 3/50\n",
            "1/1 - 0s - loss: 2.2952 - accuracy: 0.4000 - 22ms/epoch - 22ms/step\n",
            "Epoch 4/50\n",
            "1/1 - 0s - loss: 2.2025 - accuracy: 0.3000 - 16ms/epoch - 16ms/step\n",
            "Epoch 5/50\n",
            "1/1 - 0s - loss: 2.1112 - accuracy: 0.3000 - 13ms/epoch - 13ms/step\n",
            "Epoch 6/50\n",
            "1/1 - 0s - loss: 2.0221 - accuracy: 0.3000 - 13ms/epoch - 13ms/step\n",
            "Epoch 7/50\n",
            "1/1 - 0s - loss: 1.9368 - accuracy: 0.3000 - 12ms/epoch - 12ms/step\n",
            "Epoch 8/50\n",
            "1/1 - 0s - loss: 1.8560 - accuracy: 0.3000 - 13ms/epoch - 13ms/step\n",
            "Epoch 9/50\n",
            "1/1 - 0s - loss: 1.7781 - accuracy: 0.3000 - 11ms/epoch - 11ms/step\n",
            "Epoch 10/50\n",
            "1/1 - 0s - loss: 1.6998 - accuracy: 0.4000 - 12ms/epoch - 12ms/step\n",
            "Epoch 11/50\n",
            "1/1 - 0s - loss: 1.6192 - accuracy: 0.4000 - 20ms/epoch - 20ms/step\n",
            "Epoch 12/50\n",
            "1/1 - 0s - loss: 1.5377 - accuracy: 0.4000 - 14ms/epoch - 14ms/step\n",
            "Epoch 13/50\n",
            "1/1 - 0s - loss: 1.4595 - accuracy: 0.6000 - 13ms/epoch - 13ms/step\n",
            "Epoch 14/50\n",
            "1/1 - 0s - loss: 1.3884 - accuracy: 0.6000 - 12ms/epoch - 12ms/step\n",
            "Epoch 15/50\n",
            "1/1 - 0s - loss: 1.3254 - accuracy: 0.7000 - 12ms/epoch - 12ms/step\n",
            "Epoch 16/50\n",
            "1/1 - 0s - loss: 1.2685 - accuracy: 0.7000 - 12ms/epoch - 12ms/step\n",
            "Epoch 17/50\n",
            "1/1 - 0s - loss: 1.2146 - accuracy: 0.7000 - 18ms/epoch - 18ms/step\n",
            "Epoch 18/50\n",
            "1/1 - 0s - loss: 1.1622 - accuracy: 0.7000 - 28ms/epoch - 28ms/step\n",
            "Epoch 19/50\n",
            "1/1 - 0s - loss: 1.1120 - accuracy: 0.7000 - 24ms/epoch - 24ms/step\n",
            "Epoch 20/50\n",
            "1/1 - 0s - loss: 1.0654 - accuracy: 0.7000 - 21ms/epoch - 21ms/step\n",
            "Epoch 21/50\n",
            "1/1 - 0s - loss: 1.0222 - accuracy: 0.7000 - 16ms/epoch - 16ms/step\n",
            "Epoch 22/50\n",
            "1/1 - 0s - loss: 0.9808 - accuracy: 0.7000 - 12ms/epoch - 12ms/step\n",
            "Epoch 23/50\n",
            "1/1 - 0s - loss: 0.9399 - accuracy: 0.7000 - 16ms/epoch - 16ms/step\n",
            "Epoch 24/50\n",
            "1/1 - 0s - loss: 0.9001 - accuracy: 0.7000 - 14ms/epoch - 14ms/step\n",
            "Epoch 25/50\n",
            "1/1 - 0s - loss: 0.8629 - accuracy: 0.7000 - 19ms/epoch - 19ms/step\n",
            "Epoch 26/50\n",
            "1/1 - 0s - loss: 0.8288 - accuracy: 0.7000 - 46ms/epoch - 46ms/step\n",
            "Epoch 27/50\n",
            "1/1 - 0s - loss: 0.7972 - accuracy: 0.7000 - 14ms/epoch - 14ms/step\n",
            "Epoch 28/50\n",
            "1/1 - 0s - loss: 0.7674 - accuracy: 0.8000 - 22ms/epoch - 22ms/step\n",
            "Epoch 29/50\n",
            "1/1 - 0s - loss: 0.7396 - accuracy: 0.8000 - 20ms/epoch - 20ms/step\n",
            "Epoch 30/50\n",
            "1/1 - 0s - loss: 0.7142 - accuracy: 0.8000 - 21ms/epoch - 21ms/step\n",
            "Epoch 31/50\n",
            "1/1 - 0s - loss: 0.6915 - accuracy: 0.8000 - 27ms/epoch - 27ms/step\n",
            "Epoch 32/50\n",
            "1/1 - 0s - loss: 0.6713 - accuracy: 0.8000 - 31ms/epoch - 31ms/step\n",
            "Epoch 33/50\n",
            "1/1 - 0s - loss: 0.6532 - accuracy: 0.8000 - 19ms/epoch - 19ms/step\n",
            "Epoch 34/50\n",
            "1/1 - 0s - loss: 0.6367 - accuracy: 0.8000 - 14ms/epoch - 14ms/step\n",
            "Epoch 35/50\n",
            "1/1 - 0s - loss: 0.6215 - accuracy: 0.8000 - 18ms/epoch - 18ms/step\n",
            "Epoch 36/50\n",
            "1/1 - 0s - loss: 0.6071 - accuracy: 0.8000 - 14ms/epoch - 14ms/step\n",
            "Epoch 37/50\n",
            "1/1 - 0s - loss: 0.5931 - accuracy: 0.8000 - 14ms/epoch - 14ms/step\n",
            "Epoch 38/50\n",
            "1/1 - 0s - loss: 0.5797 - accuracy: 0.8000 - 20ms/epoch - 20ms/step\n",
            "Epoch 39/50\n",
            "1/1 - 0s - loss: 0.5668 - accuracy: 0.8000 - 16ms/epoch - 16ms/step\n",
            "Epoch 40/50\n",
            "1/1 - 0s - loss: 0.5544 - accuracy: 0.8000 - 23ms/epoch - 23ms/step\n",
            "Epoch 41/50\n",
            "1/1 - 0s - loss: 0.5423 - accuracy: 0.8000 - 14ms/epoch - 14ms/step\n",
            "Epoch 42/50\n",
            "1/1 - 0s - loss: 0.5304 - accuracy: 0.8000 - 16ms/epoch - 16ms/step\n",
            "Epoch 43/50\n",
            "1/1 - 0s - loss: 0.5188 - accuracy: 0.8000 - 15ms/epoch - 15ms/step\n",
            "Epoch 44/50\n",
            "1/1 - 0s - loss: 0.5074 - accuracy: 0.8000 - 15ms/epoch - 15ms/step\n",
            "Epoch 45/50\n",
            "1/1 - 0s - loss: 0.4964 - accuracy: 0.8000 - 18ms/epoch - 18ms/step\n",
            "Epoch 46/50\n",
            "1/1 - 0s - loss: 0.4855 - accuracy: 0.8000 - 14ms/epoch - 14ms/step\n",
            "Epoch 47/50\n",
            "1/1 - 0s - loss: 0.4750 - accuracy: 0.8000 - 17ms/epoch - 17ms/step\n",
            "Epoch 48/50\n",
            "1/1 - 0s - loss: 0.4648 - accuracy: 0.8000 - 17ms/epoch - 17ms/step\n",
            "Epoch 49/50\n",
            "1/1 - 0s - loss: 0.4550 - accuracy: 0.8000 - 20ms/epoch - 20ms/step\n",
            "Epoch 50/50\n",
            "1/1 - 0s - loss: 0.4456 - accuracy: 0.8000 - 19ms/epoch - 19ms/step\n"
          ]
        },
        {
          "output_type": "execute_result",
          "data": {
            "text/plain": [
              "<keras.src.callbacks.History at 0x7d69f0207910>"
            ]
          },
          "metadata": {},
          "execution_count": 1
        }
      ],
      "source": [
        "import numpy as np\n",
        "from keras.models import Sequential\n",
        "from keras.layers import SimpleRNN, Dense, Embedding\n",
        "from keras.preprocessing.text import Tokenizer\n",
        "from keras.preprocessing.sequence import pad_sequences\n",
        "from keras.utils import to_categorical\n",
        "\n",
        "# Generating some example sequential data\n",
        "sentences = ['I love learning','I love python','I hate school',\n",
        "             'Recurrent Neural Networks are powerful']\n",
        "# Tokenizing the words\n",
        "tokenizer = Tokenizer()\n",
        "tokenizer.fit_on_texts(sentences)\n",
        "total_words = len(tokenizer.word_index) + 1\n",
        "\n",
        "# Creating input sequences and their corresponding next words\n",
        "input_sequences = []\n",
        "for sentence in sentences:\n",
        "    tokenized_sentence = tokenizer.texts_to_sequences([sentence])[0]\n",
        "    for i in range(1, len(tokenized_sentence)):\n",
        "        n_gram_sequence = tokenized_sentence[:i+1]\n",
        "        input_sequences.append(n_gram_sequence)\n",
        "\n",
        "# Padding sequences for consistent input size\n",
        "max_sequence_length = max([len(seq) for seq in input_sequences])\n",
        "input_sequences = pad_sequences(input_sequences, maxlen=max_sequence_length, padding='pre')\n",
        "\n",
        "# Creating input and output data\n",
        "X, y = input_sequences[:, :-1], input_sequences[:, -1]\n",
        "y = to_categorical(y, num_classes=total_words)\n",
        "\n",
        "# Building a simple RNN model\n",
        "model = Sequential()\n",
        "model.add(Embedding(input_dim=total_words, output_dim=50, input_length=max_sequence_length-1))\n",
        "model.add(SimpleRNN(100, return_sequences=True))\n",
        "model.add(SimpleRNN(100))\n",
        "model.add(Dense(total_words, activation='softmax'))\n",
        "\n",
        "# Compiling the model\n",
        "model.compile(optimizer='adam', loss='categorical_crossentropy', metrics=['accuracy'])\n",
        "\n",
        "# Training the model\n",
        "model.fit(X, y, epochs=50, verbose=2)\n",
        "\n",
        "\n"
      ]
    },
    {
      "cell_type": "code",
      "source": [
        "# Generating text using the trained model\n",
        "seed_text = input(\"Enter the starting word: \")\n",
        "next_words = int(input(\"Enter how many words to predict: \"))\n",
        "\n",
        "for _ in range(next_words):\n",
        "    tokenized_seed = tokenizer.texts_to_sequences([seed_text])[0]\n",
        "    tokenized_seed = pad_sequences([tokenized_seed], maxlen=max_sequence_length-1, padding='pre')\n",
        "    predicted_word_index = np.argmax(model.predict(tokenized_seed), axis=-1)\n",
        "    predicted_word = tokenizer.index_word[predicted_word_index[0]]\n",
        "    seed_text += \" \" + predicted_word\n",
        "\n",
        "print(seed_text)5"
      ],
      "metadata": {
        "colab": {
          "base_uri": "https://localhost:8080/"
        },
        "id": "SD5SIWf4Q7PV",
        "outputId": "20f4e419-b15d-46cc-9220-b1169d1bf2ef"
      },
      "execution_count": null,
      "outputs": [
        {
          "output_type": "stream",
          "name": "stdout",
          "text": [
            "Enter the starting word: i\n",
            "Enter how many words to predict: 5\n",
            "1/1 [==============================] - 0s 20ms/step\n",
            "1/1 [==============================] - 0s 19ms/step\n",
            "1/1 [==============================] - 0s 20ms/step\n",
            "1/1 [==============================] - 0s 21ms/step\n",
            "1/1 [==============================] - 0s 21ms/step\n",
            "i love learning hate school are\n"
          ]
        }
      ]
    }
  ]
}
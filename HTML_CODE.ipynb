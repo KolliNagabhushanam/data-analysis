{
  "nbformat": 4,
  "nbformat_minor": 0,
  "metadata": {
    "colab": {
      "provenance": [],
      "mount_file_id": "1Odb8PvOKxRxN8ER188z9-OBMnOcFgjhy",
      "authorship_tag": "ABX9TyNUDVPhpVXvkg5D3QRht+pe",
      "include_colab_link": true
    },
    "kernelspec": {
      "name": "python3",
      "display_name": "Python 3"
    },
    "language_info": {
      "name": "python"
    }
  },
  "cells": [
    {
      "cell_type": "markdown",
      "metadata": {
        "id": "view-in-github",
        "colab_type": "text"
      },
      "source": [
        "<a href=\"https://colab.research.google.com/github/KolliNagabhushanam/data-analysis/blob/main/HTML_CODE.ipynb\" target=\"_parent\"><img src=\"https://colab.research.google.com/assets/colab-badge.svg\" alt=\"Open In Colab\"/></a>"
      ]
    },
    {
      "cell_type": "markdown",
      "source": [
        "EXtracting HTML code of any website"
      ],
      "metadata": {
        "id": "5TldIlHet3Sm"
      }
    },
    {
      "cell_type": "code",
      "source": [
        "from bs4 import BeautifulSoup\n",
        "import requests"
      ],
      "metadata": {
        "id": "6Cf2sI9quPp6"
      },
      "execution_count": 2,
      "outputs": []
    },
    {
      "cell_type": "code",
      "source": [
        "a1 = 'https://teachablemachine.withgoogle.com/models/NTYZDFUaB/'\n",
        "response=requests.get(a1)"
      ],
      "metadata": {
        "id": "fMgTV_L8vGPE"
      },
      "execution_count": 22,
      "outputs": []
    },
    {
      "cell_type": "code",
      "source": [
        "a2 = BeautifulSoup(response.text, 'html')\n",
        "print(a2)"
      ],
      "metadata": {
        "colab": {
          "base_uri": "https://localhost:8080/"
        },
        "id": "TPPr3O8Sxdn_",
        "outputId": "52bb23f1-dc8a-4d30-947c-157cb59f12bf"
      },
      "execution_count": 23,
      "outputs": [
        {
          "output_type": "stream",
          "name": "stdout",
          "text": [
            "<!DOCTYPE html>\n",
            "<html>\n",
            "<head>\n",
            "<title>Teachable Machine</title>\n",
            "<base href=\"/\"/>\n",
            "<meta charset=\"utf-8\"/>\n",
            "<meta content=\"width=device-width, user-scalable=yes\" name=\"viewport\"/>\n",
            "<link href=\"assets/style.css\" rel=\"stylesheet\"/>\n",
            "<script src=\"https://apis.google.com/js/api.js\" type=\"text/javascript\"></script>\n",
            "<link href=\"/assets/img/favicon.png\" rel=\"shortcut icon\"/>\n",
            "<!-- Primary Meta Tags -->\n",
            "<meta content=\"Teachable Machine\" name=\"title\"/>\n",
            "<meta content=\"Train a computer to recognize your own images, sounds, &amp; poses.\n",
            "        A fast, easy way to create machine learning models for your sites, apps, and more â no expertise or coding required.\" name=\"description\"/>\n",
            "<!-- Open Graph / Facebook -->\n",
            "<meta content=\"website\" property=\"og:type\"/>\n",
            "<meta content=\"https://teachablemachine.withgoogle.com/\" property=\"og:url\"/>\n",
            "<meta content=\"Teachable Machine\" property=\"og:title\"/>\n",
            "<meta content=\"Train a computer to recognize your own images, sounds, &amp; poses.\n",
            "        A fast, easy way to create machine learning models for your sites, apps, and more â no expertise or coding required.\" property=\"og:description\"/>\n",
            "<meta content=\"https://teachablemachine.withgoogle.com/assets/img/Hero_image_16x9.jpg\" property=\"og:image\"/>\n",
            "<!-- Twitter -->\n",
            "<meta content=\"summary_large_image\" property=\"twitter:card\"/>\n",
            "<meta content=\"https://teachablemachine.withgoogle.com/\" property=\"twitter:url\"/>\n",
            "<meta content=\"Teachable Machine\" property=\"twitter:title\"/>\n",
            "<meta content=\"Train a computer to recognize your own images, sounds, &amp; poses.\n",
            "        A fast, easy way to create machine learning models for your sites, apps, and more â no expertise or coding required.\" property=\"twitter:description\"/>\n",
            "<meta content=\"https://teachablemachine.withgoogle.com/assets/img/Hero_image_16x9.jpg\" property=\"twitter:image\"/>\n",
            "<style>\n",
            "      body,\n",
            "      html {\n",
            "        height: 100%;\n",
            "      }\n",
            "\n",
            "      tm-classifier-drawer .error-message {\n",
            "        font-weight: bold;\n",
            "        color: #e05534;\n",
            "      }\n",
            "    </style>\n",
            "<script>\n",
            "      window.dataLayer = window.dataLayer || []\n",
            "\n",
            "      function getRedactedPathname() {\n",
            "        let p = window.location.pathname\n",
            "        p = p.replace(/(?<=\\/models\\/)(\\w+)(\\/.+)?/gi, '[redacted_id]$2')\n",
            "        p = p.replace(\n",
            "          /(\\/train\\/\\w+\\/)(\\w+)(\\/.+)?/gi,\n",
            "          '$1[redacted_drive_id]$3'\n",
            "        )\n",
            "        p = p.replace(/(\\/drive.+)(\\\"\\w+\\\")(.+)/gi, '$1[redacted_drive_id]$3')\n",
            "        p = p.replace(/(\\/train.+id=)(\\w+)(&.+)/gi, '$1[redacted_drive_id]$3')\n",
            "        return p\n",
            "      }\n",
            "\n",
            "      window.dataLayer.push({\n",
            "        page_path: getRedactedPathname(),\n",
            "        page_referrer: document.referrer.split('?')[0],\n",
            "      })\n",
            "    </script>\n",
            "<!-- Google Tag Manager -->\n",
            "<script>\n",
            "      ;(function (w, d, s, l, i) {\n",
            "        w[l] = w[l] || []\n",
            "        w[l].push({ 'gtm.start': new Date().getTime(), event: 'gtm.js' })\n",
            "        var f = d.getElementsByTagName(s)[0],\n",
            "          j = d.createElement(s),\n",
            "          dl = l != 'dataLayer' ? '&l=' + l : ''\n",
            "        j.async = true\n",
            "        j.src = 'https://www.googletagmanager.com/gtm.js?id=' + i + dl\n",
            "        f.parentNode.insertBefore(j, f)\n",
            "      })(window, document, 'script', 'dataLayer', 'GTM-PJ46M7W')\n",
            "    </script>\n",
            "<!-- End Google Tag Manager -->\n",
            "<!-- Cookie Consent CSS -->\n",
            "<link href=\"https://www.gstatic.com/glue/cookienotificationbar/cookienotificationbar.min.css\" rel=\"stylesheet\"/>\n",
            "</head>\n",
            "<body>\n",
            "<div aria-hidden=\"true\" class=\"unsupported-msg\" id=\"unsupported-msg\">\n",
            "<h2>Sorryâ¦ Teachable Machine isnât supported here :(</h2>\n",
            "<p>\n",
            "        Your browser <span class=\"mobile-msg\">or device </span> doesnât support\n",
            "        Teachable Machine.\n",
            "      </p>\n",
            "<p>\n",
            "        Learn more about Teachable Machine on the\n",
            "        <a href=\"/\" target=\"_top\">Homepage</a>, or visit this site on desktop in\n",
            "        <a href=\"https://www.google.com/chrome/\" target=\"_blank\">Chrome</a><span class=\"mobile-msg\"> or Safari</span>.\n",
            "      </p>\n",
            "</div>\n",
            "<script>\n",
            "      // Unsupported fallback:\n",
            "      var isMobile =\n",
            "        typeof window.orientation !== 'undefined' ||\n",
            "        navigator.userAgent.indexOf('IEMobile') !== -1\n",
            "      var isOpera =\n",
            "        (!!window.opr && !!opr.addons) ||\n",
            "        !!window.opera ||\n",
            "        navigator.userAgent.indexOf(' OPR/') >= 0\n",
            "      var isFirefox = typeof InstallTrigger !== 'undefined'\n",
            "      var isSafari =\n",
            "        /constructor/i.test(window.HTMLElement) ||\n",
            "        (function (p) {\n",
            "          return p.toString() === '[object SafariRemoteNotification]'\n",
            "        })(\n",
            "          !window['safari'] ||\n",
            "            (typeof safari !== 'undefined' && safari.pushNotification)\n",
            "        )\n",
            "      var isIE = /*@cc_on!@*/ false || !!document.documentMode\n",
            "      var isEdge = !isIE && !!window.StyleMedia\n",
            "      var isChrome = !!window.chrome // && (!!window.chrome.webstore || !!window.chrome.runtime);\n",
            "\n",
            "      var msgContainer = document.getElementById('unsupported-msg')\n",
            "      // Grab the message DOM right away â if the app loads, it will remove it\n",
            "      var unsupportedMsg = document.getElementById('unsupported-msg')\n",
            "      // Once the DOM is ready, proceed\n",
            "      document.addEventListener('DOMContentLoaded', function (event) {\n",
            "        // Conditions go here for the necessary requirements\n",
            "        if (\n",
            "          typeof customElements === 'undefined' ||\n",
            "          isMobile ||\n",
            "          !(isChrome || isSafari || isFirefox)\n",
            "        ) {\n",
            "          document\n",
            "            .getElementsByTagName('html')[0]\n",
            "            .setAttribute('unsupported', '')\n",
            "          // Show our message and add it to the DOM if was removed\n",
            "          msgContainer.style.display = 'block'\n",
            "          unsupportedMsg.setAttribute('aria-hidden', 'false')\n",
            "          document.body.appendChild(unsupportedMsg)\n",
            "        }\n",
            "      })\n",
            "    </script>\n",
            "<!-- Feedback API -->\n",
            "<script src=\"https://support.google.com/inapp/api.js\" type=\"text/javascript\"></script>\n",
            "<!-- Cookie Consent JS -->\n",
            "<script data-glue-cookie-notification-bar-category=\"2B\" src=\"https://www.gstatic.com/glue/cookienotificationbar/cookienotificationbar.min.js\"></script>\n",
            "<script src=\"dist/models.bundle.js\" type=\"text/javascript\"></script></body>\n",
            "</html>\n",
            "\n"
          ]
        }
      ]
    },
    {
      "cell_type": "code",
      "source": [
        "t=a2.find('title')\n",
        "print(t)"
      ],
      "metadata": {
        "colab": {
          "base_uri": "https://localhost:8080/"
        },
        "id": "G08Zsmfi2AkP",
        "outputId": "39dab1b7-742e-4776-e166-d18bb039585b"
      },
      "execution_count": 24,
      "outputs": [
        {
          "output_type": "stream",
          "name": "stdout",
          "text": [
            "<title>Teachable Machine</title>\n"
          ]
        }
      ]
    },
    {
      "cell_type": "code",
      "source": [
        "print(t.text)"
      ],
      "metadata": {
        "colab": {
          "base_uri": "https://localhost:8080/"
        },
        "id": "dQZbDkDo2ksA",
        "outputId": "f1ce9349-bdca-404d-8b0a-cc18933399ba"
      },
      "execution_count": 26,
      "outputs": [
        {
          "output_type": "stream",
          "name": "stdout",
          "text": [
            "Teachable Machine\n"
          ]
        }
      ]
    },
    {
      "cell_type": "code",
      "source": [
        "from bs4 import BeautifulSoup\n",
        "import requests"
      ],
      "metadata": {
        "id": "eAqFPnU74RPT"
      },
      "execution_count": 35,
      "outputs": []
    },
    {
      "cell_type": "code",
      "source": [
        "soup='https://www.forbesindia.com/article/explainers/top-10-richest-people-india/85909/1'\n",
        "soup=requests.get(soup)"
      ],
      "metadata": {
        "id": "daOuM20y5x1L"
      },
      "execution_count": 36,
      "outputs": []
    },
    {
      "cell_type": "code",
      "source": [
        "title = BeautifulSoup(soup.text, 'html')\n",
        "print('title')"
      ],
      "metadata": {
        "colab": {
          "base_uri": "https://localhost:8080/"
        },
        "id": "wQh2ZgUF54Ef",
        "outputId": "a922f61d-1f7f-4b3a-ffc2-0ed7b7aa401e"
      },
      "execution_count": 38,
      "outputs": [
        {
          "output_type": "stream",
          "name": "stdout",
          "text": [
            "title\n"
          ]
        }
      ]
    },
    {
      "cell_type": "code",
      "source": [
        "table=title.find('table')\n",
        "print(table)"
      ],
      "metadata": {
        "colab": {
          "base_uri": "https://localhost:8080/"
        },
        "id": "XwV6q1IK6vUn",
        "outputId": "a4c44388-8478-49db-e8fd-147e650f1592"
      },
      "execution_count": 39,
      "outputs": [
        {
          "output_type": "stream",
          "name": "stdout",
          "text": [
            "<table style=\"border-collapse: collapse;\">\n",
            "<tbody>\n",
            "<tr>\n",
            "<th style=\"border: 1px solid black; padding: 8px;\"><strong>Name &amp; India Rank</strong></th>\n",
            "<th style=\"border: 1px solid black; padding: 8px;\"><strong>Global Rank</strong></th>\n",
            "<th style=\"border: 1px solid black; padding: 8px;\"><strong>Net worth (US$)</strong></th>\n",
            "<th style=\"border: 1px solid black; padding: 8px;\"><strong>Company</strong></th>\n",
            "</tr>\n",
            "<tr>\n",
            "<td style=\"border: 1px solid black; padding: 8px;\">#1 Mukesh Ambani <br/></td>\n",
            "<td style=\"border: 1px solid black; padding: 8px;\">11</td>\n",
            "<td style=\"border: 1px solid black; padding: 8px;\">$113.0 B</td>\n",
            "<td style=\"border: 1px solid black; padding: 8px;\">Reliance Industries</td>\n",
            "</tr>\n",
            "<tr>\n",
            "<td style=\"border: 1px solid black; padding: 8px;\">#2 Gautam Adani <br/></td>\n",
            "<td style=\"border: 1px solid black; padding: 8px;\">16<br/></td>\n",
            "<td style=\"border: 1px solid black; padding: 8px;\">$81.2 B</td>\n",
            "<td style=\"border: 1px solid black; padding: 8px;\">Adani Group</td>\n",
            "</tr>\n",
            "<tr>\n",
            "<td style=\"border: 1px solid black; padding: 8px;\">#3 Shiv Nadar <br/></td>\n",
            "<td style=\"border: 1px solid black; padding: 8px;\">37<br/></td>\n",
            "<td style=\"border: 1px solid black; padding: 8px;\">$37.1 B</td>\n",
            "<td style=\"border: 1px solid black; padding: 8px;\">HCL Technologies   <br/></td>\n",
            "</tr>\n",
            "<tr>\n",
            "<td style=\"border: 1px solid black; padding: 8px;\">#4 Savitri Jindal &amp; family <br/></td>\n",
            "<td style=\"border: 1px solid black; padding: 8px;\">58<br/></td>\n",
            "<td style=\"border: 1px solid black; padding: 8px;\">$28.9 B</td>\n",
            "<td style=\"border: 1px solid black; padding: 8px;\">JSW Group<br/></td>\n",
            "</tr>\n",
            "<tr>\n",
            "<td style=\"border: 1px solid black; padding: 8px;\">#5 Cyrus Poonawalla <br/></td>\n",
            "<td style=\"border: 1px solid black; padding: 8px;\">68<br/></td>\n",
            "<td style=\"border: 1px solid black; padding: 8px;\">$25.6 B</td>\n",
            "<td style=\"border: 1px solid black; padding: 8px;\">Serum Institute of India<br/></td>\n",
            "</tr>\n",
            "<tr>\n",
            "<td style=\"border: 1px solid black; padding: 8px;\">#6 Dilip Shanghvi <br/></td>\n",
            "<td style=\"border: 1px solid black; padding: 8px;\">69<br/></td>\n",
            "<td style=\"border: 1px solid black; padding: 8px;\">$25.5 B</td>\n",
            "<td style=\"border: 1px solid black; padding: 8px;\">Sun Pharmaceutical Industries Ltd</td>\n",
            "</tr>\n",
            "<tr><td style=\"border: 1px solid black; padding: 8px;\">#7 Kumar Birla <br/></td>\n",
            "<td style=\"border: 1px solid black; padding: 8px;\">97<br/></td>\n",
            "<td style=\"border: 1px solid black; padding: 8px;\">$18.9 B</td>\n",
            "<td style=\"border: 1px solid black; padding: 8px;\">Aditya Birla Group<br/></td>\n",
            "</tr>\n",
            "<tr>\n",
            "<td style=\"border: 1px solid black; padding: 8px;\">#8 Kushal Pal Singh<br/></td>\n",
            "<td style=\"border: 1px solid black; padding: 8px;\">98<br/></td>\n",
            "<td style=\"border: 1px solid black; padding: 8px;\">$18.9 B</td>\n",
            "<td style=\"border: 1px solid black; padding: 8px;\">DLF Limited<br/></td>\n",
            "</tr>\n",
            "<tr>\n",
            "</tr><tr>\n",
            "<td style=\"border: 1px solid black; padding: 8px;\">#9 Lakshmi Mittal <br/></td>\n",
            "<td style=\"border: 1px solid black; padding: 8px;\">102</td>\n",
            "<td style=\"border: 1px solid black; padding: 8px;\">$17.2 B</td>\n",
            "<td style=\"border: 1px solid black; padding: 8px;\">ArcelorMittal<br/></td>\n",
            "</tr>\n",
            "<tr><td style=\"border: 1px solid black; padding: 8px;\">#10 Radhakishan Damani <br/></td>\n",
            "<td style=\"border: 1px solid black; padding: 8px;\">105<br/></td>\n",
            "<td style=\"border: 1px solid black; padding: 8px;\">$16.7 B</td>\n",
            "<td style=\"border: 1px solid black; padding: 8px;\">DMart, Avenue Supermarts</td>\n",
            "</tr>\n",
            "</tbody>\n",
            "</table>\n"
          ]
        }
      ]
    },
    {
      "cell_type": "code",
      "source": [
        "headings=table.find_all('th')\n",
        "print(headings)"
      ],
      "metadata": {
        "id": "B40Bjurh8AX-"
      },
      "execution_count": null,
      "outputs": []
    },
    {
      "cell_type": "code",
      "source": [
        "head=[]\n",
        "#for i in headings:\n",
        "   #head.append(i.text)\n",
        "#print(head)\n",
        "#list comprahension syntax\n",
        "#listname=[o/p  for loop]\n",
        "head=[i.text for i in headings]\n",
        "print(head)\n"
      ],
      "metadata": {
        "colab": {
          "base_uri": "https://localhost:8080/"
        },
        "id": "txxM3Vcf8qwQ",
        "outputId": "3cf6e82d-7893-4d44-b421-d6ccca59a5fd"
      },
      "execution_count": 54,
      "outputs": [
        {
          "output_type": "stream",
          "name": "stdout",
          "text": [
            "['Name & India Rank', 'Global Rank', 'Net worth (US$)', 'Company']\n"
          ]
        }
      ]
    },
    {
      "cell_type": "code",
      "source": [
        "#creating data frame\n",
        "import pandas as pd\n",
        "df=pd.DataFrame(columns=head)\n",
        "print(df)"
      ],
      "metadata": {
        "colab": {
          "base_uri": "https://localhost:8080/"
        },
        "id": "vY-IwSfEBYXk",
        "outputId": "e9aac6bb-1eb0-488b-897f-e6d7a3865cc6"
      },
      "execution_count": 98,
      "outputs": [
        {
          "output_type": "stream",
          "name": "stdout",
          "text": [
            "Empty DataFrame\n",
            "Columns: [Name & India Rank, Global Rank, Net worth (US$), Company]\n",
            "Index: []\n"
          ]
        }
      ]
    },
    {
      "cell_type": "code",
      "source": [
        "ind=0\n",
        "for i in rows[1:6]:\n",
        "  row_data=i.find_all('td')\n",
        "  every_row_data=[i.text for i in row_data]\n",
        "  print(every_row_data)\n",
        "  df.loc[ind]=every_row_data\n",
        "  ind= ind+1\n"
      ],
      "metadata": {
        "colab": {
          "base_uri": "https://localhost:8080/"
        },
        "id": "aZ-ScJBVgBi9",
        "outputId": "eea79bf5-3907-44f6-a888-11527eb04b2f"
      },
      "execution_count": 99,
      "outputs": [
        {
          "output_type": "stream",
          "name": "stdout",
          "text": [
            "['#1 Mukesh Ambani ', '11', '$113.0 B', 'Reliance Industries']\n",
            "['#2 Gautam Adani ', '16', '$81.2 B', 'Adani Group']\n",
            "['#3 Shiv Nadar ', '37', '$37.1 B', 'HCL Technologies\\xa0\\xa0 ']\n",
            "['#4 Savitri Jindal & family ', '58', '$28.9 B', 'JSW Group']\n",
            "['#5 Cyrus Poonawalla ', '68', '$25.6 B', 'Serum Institute of India']\n"
          ]
        }
      ]
    },
    {
      "cell_type": "code",
      "source": [
        "f=df.to_csv(\"Richest.csv\")"
      ],
      "metadata": {
        "id": "5-N92uZePU93"
      },
      "execution_count": 100,
      "outputs": []
    }
  ]
}
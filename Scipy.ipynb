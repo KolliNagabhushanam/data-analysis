{
  "nbformat": 4,
  "nbformat_minor": 0,
  "metadata": {
    "colab": {
      "provenance": [],
      "authorship_tag": "ABX9TyPYActnI4ewJ514tMalpe17",
      "include_colab_link": true
    },
    "kernelspec": {
      "name": "python3",
      "display_name": "Python 3"
    },
    "language_info": {
      "name": "python"
    }
  },
  "cells": [
    {
      "cell_type": "markdown",
      "metadata": {
        "id": "view-in-github",
        "colab_type": "text"
      },
      "source": [
        "<a href=\"https://colab.research.google.com/github/KolliNagabhushanam/data-analysis/blob/main/Scipy.ipynb\" target=\"_parent\"><img src=\"https://colab.research.google.com/assets/colab-badge.svg\" alt=\"Open In Colab\"/></a>"
      ]
    },
    {
      "cell_type": "code",
      "execution_count": 17,
      "metadata": {
        "colab": {
          "base_uri": "https://localhost:8080/"
        },
        "id": "aFenJDKBTFNF",
        "outputId": "8e2ded98-2c4b-49e5-e8c0-82f5398877de"
      },
      "outputs": [
        {
          "output_type": "stream",
          "name": "stdout",
          "text": [
            "Result: 0.33333333333333337\n",
            "Error: 3.700743415417189e-15\n"
          ]
        }
      ],
      "source": [
        "import scipy\n",
        "from scipy import integrate\n",
        "result, error = integrate.quad(lambda x: x**2, 0, 1)\n",
        "print(\"Result:\", result)\n",
        "print(\"Error:\", error)"
      ]
    },
    {
      "cell_type": "code",
      "source": [
        "square=lambda X: X**2\n",
        "result=square(5)\n",
        "print(\"Result\",result)"
      ],
      "metadata": {
        "colab": {
          "base_uri": "https://localhost:8080/"
        },
        "id": "1AJVy95vVlPL",
        "outputId": "8106678e-504e-4b30-c8bb-fea0f42e5c16"
      },
      "execution_count": 18,
      "outputs": [
        {
          "output_type": "stream",
          "name": "stdout",
          "text": [
            "Result 25\n"
          ]
        }
      ]
    },
    {
      "cell_type": "code",
      "source": [
        "import numpy as np\n",
        "from scipy import optimize\n",
        "result_optimization=optimize.minimize_scalar(lambda x: x**2 + 3*x + 5)\n",
        "print(\"Optimizaton Result:\",result_optimization.x)"
      ],
      "metadata": {
        "colab": {
          "base_uri": "https://localhost:8080/"
        },
        "id": "HB5lVl7RWBak",
        "outputId": "b48e8397-deb7-460a-b4b4-2f518bf4d8ae"
      },
      "execution_count": 19,
      "outputs": [
        {
          "output_type": "stream",
          "name": "stdout",
          "text": [
            "Optimizaton Result: -1.5000000000000002\n"
          ]
        }
      ]
    },
    {
      "cell_type": "code",
      "source": [
        "import numpy as np\n",
        "import matplotlib.pyplot as plt\n",
        "from scipy import interpolate\n",
        "x_data=np.array([0,1,2,3,4])\n",
        "y_data=np.array([0,2,1,3,5])\n",
        "interp_func=interpolate.interp1d(x_data,y_data,kind='linear')\n",
        "interp_result=interp_func(2.5)\n",
        "print(\"Interpolation Result:\",interp_result)"
      ],
      "metadata": {
        "colab": {
          "base_uri": "https://localhost:8080/"
        },
        "id": "K-Vyu_93Y5TR",
        "outputId": "7d170d63-7c37-4175-9202-c05627837635"
      },
      "execution_count": 21,
      "outputs": [
        {
          "output_type": "stream",
          "name": "stdout",
          "text": [
            "Interpolation Result: 2.0\n"
          ]
        }
      ]
    },
    {
      "cell_type": "code",
      "source": [
        "import numpy as np\n",
        "import pandas as pd\n",
        "import scipy.stats as stats\n",
        "import statsmodels.api as sm"
      ],
      "metadata": {
        "id": "Zg1_tB7SaBPr"
      },
      "execution_count": 22,
      "outputs": []
    },
    {
      "cell_type": "code",
      "source": [
        "np.random.seed(0)\n",
        "data=pd.DataFrame({'Treatment':np.random.choice(['A','B','c'],size=100),'score':np.random.normal(loc=10,scale=2,size=100)})\n",
        "print(data)"
      ],
      "metadata": {
        "colab": {
          "base_uri": "https://localhost:8080/"
        },
        "id": "J0Jzhq3Bb43M",
        "outputId": "5d845db4-a763-4b16-b19e-58e64d6212ce"
      },
      "execution_count": null,
      "outputs": [
        {
          "output_type": "stream",
          "name": "stdout",
          "text": [
            "   Treatment      score\n",
            "0          A   8.626821\n",
            "1          B  10.029747\n",
            "2          A   9.248668\n",
            "3          B   9.923553\n",
            "4          B  10.735949\n",
            "..       ...        ...\n",
            "95         A   9.933528\n",
            "96         c  10.131283\n",
            "97         A  10.531571\n",
            "98         B  12.303684\n",
            "99         c  10.276086\n",
            "\n",
            "[100 rows x 2 columns]\n"
          ]
        }
      ]
    },
    {
      "cell_type": "code",
      "source": [
        "import random\n",
        "random.seed(0)\n",
        "print(random.random())\n",
        "print(random.random())"
      ],
      "metadata": {
        "colab": {
          "base_uri": "https://localhost:8080/"
        },
        "id": "OWiZo_hbc8ic",
        "outputId": "1dc216a1-e613-4a48-d22c-69a44210379b"
      },
      "execution_count": null,
      "outputs": [
        {
          "output_type": "stream",
          "name": "stdout",
          "text": [
            "0.8444218515250481\n",
            "0.7579544029403025\n"
          ]
        }
      ]
    },
    {
      "cell_type": "code",
      "source": [
        "#hypothesis testing\n",
        "#from scipy.stats import ttest_ind\n",
        "group_A=data[data['Treatment']=='A']['score']\n",
        "group_B=data[data['Treatment']=='B']['score']\n",
        "t_stat, p_value = stats.ttest_ind(group_A, group_B)\n",
        "print(\"t_statistic:\",t_stat)\n",
        "print(\"p_value:\",p_value)"
      ],
      "metadata": {
        "colab": {
          "base_uri": "https://localhost:8080/"
        },
        "id": "mDDot0BjdgFo",
        "outputId": "d01c9e34-7486-420f-f582-20c83f539528"
      },
      "execution_count": null,
      "outputs": [
        {
          "output_type": "stream",
          "name": "stdout",
          "text": [
            "t_statistic: -1.0341676575352792\n",
            "p_value: 0.3045674995802033\n"
          ]
        }
      ]
    },
    {
      "cell_type": "code",
      "source": [
        "import numpy as np\n",
        "import pandas as pd\n",
        "import scipy.stats as stats\n",
        "import statsmodels.api as sm\n",
        "np.random.seed(0)\n",
        "data=pd.DataFrame({'Treatment':np.random.normal(loc=14,scale=4,size=100),'score':np.random.normal(loc=10,scale=2,size=100)})\n",
        "print(data)\n",
        "a=data ['Treatment'].mean()\n",
        "print(a)\n",
        "b=data['score'].mean()\n",
        "print(b)\n",
        "group_A=data['Treatment']\n",
        "group_B=data['score']\n",
        "t_stat,p_value = stats.ttest_ind(group_A, group_B)\n",
        "print(\"t_statistic:\",t_stat)\n",
        "print(\"p_value:\",p_value)\n",
        "\n"
      ],
      "metadata": {
        "colab": {
          "base_uri": "https://localhost:8080/"
        },
        "id": "TINDU14gprAC",
        "outputId": "58a838e4-fc4d-491e-82af-5ef3f2abe9a3"
      },
      "execution_count": null,
      "outputs": [
        {
          "output_type": "stream",
          "name": "stdout",
          "text": [
            "    Treatment      score\n",
            "0   21.056209  13.766301\n",
            "1   15.600629   7.304482\n",
            "2   17.914952   7.459030\n",
            "3   22.963573  11.938793\n",
            "4   21.470232   7.653753\n",
            "..        ...        ...\n",
            "95  16.826293   9.656907\n",
            "96  14.042000  11.543581\n",
            "97  21.143482  11.647008\n",
            "98  14.507648  14.326472\n",
            "99  15.607957  12.673056\n",
            "\n",
            "[100 rows x 2 columns]\n",
            "14.239232062137942\n",
            "10.164025941495675\n",
            "t_statistic: 8.947792839515259\n",
            "p_value: 2.61744028810041e-16\n"
          ]
        }
      ]
    },
    {
      "cell_type": "code",
      "source": [
        "#ANOVA\n",
        "f_stat,p_value=stats.f_oneway(data[data['Treatment'] == 'A']['score'],\n",
        "                              data[data['Treatment'] == 'B']['score'],\n",
        "                              data[data['Treatment'] == 'C']['score'])\n",
        "print(\"f-statistic:\",f_stat)\n",
        "print(\"p-value:\",p_value)"
      ],
      "metadata": {
        "id": "cvSB8xduyJ0H"
      },
      "execution_count": null,
      "outputs": []
    },
    {
      "cell_type": "code",
      "source": [
        "import numpy as np\n",
        "import pandas as pd\n",
        "import scipy.stats as stats\n",
        "import statsmodels.api as sm\n",
        "np.random.seed(0)\n",
        "data=pd.DataFrame({'Treatment':np.random.normal(loc=14,scale=4,size=200),'score':np.random.normal(loc=10,scale=2,size=200)})\n",
        "print(data)\n",
        "a=data ['Treatment'].mean()\n",
        "print(a)\n",
        "b=data['score'].mean()\n",
        "print(b)\n",
        "group_A=data['Treatment']\n",
        "group_B = data['score']\n",
        "f_stat, p_value = stats.ttest_ind(group_A, group_B)\n",
        "print(\"F_statistic:\", f_stat)\n",
        "print(\"p_value:\", p_value)"
      ],
      "metadata": {
        "colab": {
          "base_uri": "https://localhost:8080/"
        },
        "id": "SqVHBWrU2WdF",
        "outputId": "713a834c-5ee4-44af-bdf0-678e3eb02199"
      },
      "execution_count": null,
      "outputs": [
        {
          "output_type": "stream",
          "name": "stdout",
          "text": [
            "     Treatment      score\n",
            "0    21.056209   9.261636\n",
            "1    15.600629   9.521242\n",
            "2    17.914952  12.199319\n",
            "3    22.963573  11.310527\n",
            "4    21.470232  11.280263\n",
            "..         ...        ...\n",
            "195  13.313815   8.477016\n",
            "196  17.087162  11.715848\n",
            "197  17.294017  12.282204\n",
            "198  22.652944  12.933157\n",
            "199  19.346112  11.705104\n",
            "\n",
            "[200 rows x 2 columns]\n",
            "14.283641972564647\n",
            "9.743971032894427\n",
            "F_statistic: 14.23045978450945\n",
            "p_value: 1.9383740403620304e-37\n"
          ]
        }
      ]
    },
    {
      "cell_type": "code",
      "source": [
        "\n",
        "import numpy as nm\n",
        "from statsmodels.stats.multicomp import pairwise_tukeyhsd\n",
        "all_data =np.concatenate([group1, group2, group3])\n",
        "\n",
        "# Create labels for groups\n",
        "labels = ['Group 1'] * len(group1) + ['Group 2'] * len(group2) + ['Group 3'] * len(group3)\n",
        "\n",
        "# Perform Tukey's HSD test\n",
        "tukey_results = pairwise_tukeyhsd(all_data, labels, alpha=0.05)\n",
        "\n",
        "# Print pairwise comparisons\n",
        "print(tukey_results)\n",
        "\n",
        "# Get confidence intervals for specific pairwise comparisons\n",
        "print(tukey_results.confint_diff())"
      ],
      "metadata": {
        "id": "bec_42N2RU35"
      },
      "execution_count": null,
      "outputs": []
    },
    {
      "cell_type": "code",
      "source": [
        "import statsmodels.api as sm\n",
        "X= sm.add_constant(data['Treatment'].replace({'A':0, 'B':1, 'C':2}))\n",
        "model=sm.OLS(data['score'],X)\n",
        "results=model.fit()\n",
        "print(results.summary())"
      ],
      "metadata": {
        "id": "7fQd4TW7TXfq"
      },
      "execution_count": null,
      "outputs": []
    }
  ]
}